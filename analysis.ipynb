{
 "cells": [
  {
   "cell_type": "markdown",
   "metadata": {},
   "source": [
    "## Thalmic Labs Case Study\n",
    "\n",
    "**Author**: Charley Carriero <br/>\n",
    "**Date**: 19 June, 2018 <br/>\n",
    "\n",
    "<br/>"
   ]
  },
  {
   "cell_type": "markdown",
   "metadata": {},
   "source": [
    "**The Task**: To identify a user from the motion pattern of their walking activity.\n",
    "* Prepare a short presentation on your approach and results.\n",
    "* Outline any business value you think could be created from this / similar data sets.  \n",
    "* Comment on what kind of additional data points you would like to see to create more value. \n",
    "\n",
    "<br/>"
   ]
  },
  {
   "cell_type": "code",
   "execution_count": 53,
   "metadata": {
    "collapsed": true
   },
   "outputs": [],
   "source": [
    "## dependencies\n",
    "\n",
    "import pandas as pd\n",
    "import numpy as np\n",
    "import glob\n",
    "import seaborn as sns\n",
    "import matplotlib.pyplot as plt\n",
    "%matplotlib inline  "
   ]
  },
  {
   "cell_type": "markdown",
   "metadata": {},
   "source": [
    "<br/>\n",
    "\n",
    "## The Data\n",
    "---"
   ]
  },
  {
   "cell_type": "code",
   "execution_count": 50,
   "metadata": {},
   "outputs": [],
   "source": [
    "## import data\n",
    "\n",
    "allFiles = glob.glob('data/*.csv')\n",
    "frame = pd.DataFrame()\n",
    "list_ = []\n",
    "\n",
    "i = 0 \n",
    "for file in allFiles:\n",
    "    temp = pd.read_csv(file, header=None)\n",
    "    temp.columns = [\"tstep\", \"xa\", \"ya\", \"za\"]\n",
    "    temp['uid'] =  i \n",
    "    list_.append(temp) \n",
    "    i = i + 1\n",
    "\n",
    "frame = pd.concat(list_, ignore_index = True)"
   ]
  },
  {
   "cell_type": "code",
   "execution_count": 52,
   "metadata": {},
   "outputs": [
    {
     "data": {
      "text/html": [
       "<div>\n",
       "<style>\n",
       "    .dataframe thead tr:only-child th {\n",
       "        text-align: right;\n",
       "    }\n",
       "\n",
       "    .dataframe thead th {\n",
       "        text-align: left;\n",
       "    }\n",
       "\n",
       "    .dataframe tbody tr th {\n",
       "        vertical-align: top;\n",
       "    }\n",
       "</style>\n",
       "<table border=\"1\" class=\"dataframe\">\n",
       "  <thead>\n",
       "    <tr style=\"text-align: right;\">\n",
       "      <th></th>\n",
       "      <th>tstep</th>\n",
       "      <th>xa</th>\n",
       "      <th>ya</th>\n",
       "      <th>za</th>\n",
       "      <th>uid</th>\n",
       "    </tr>\n",
       "  </thead>\n",
       "  <tbody>\n",
       "    <tr>\n",
       "      <th>0</th>\n",
       "      <td>0.000000</td>\n",
       "      <td>0.190680</td>\n",
       "      <td>6.5922</td>\n",
       "      <td>6.5514</td>\n",
       "      <td>0</td>\n",
       "    </tr>\n",
       "    <tr>\n",
       "      <th>1</th>\n",
       "      <td>0.029480</td>\n",
       "      <td>0.108960</td>\n",
       "      <td>5.8567</td>\n",
       "      <td>6.6604</td>\n",
       "      <td>0</td>\n",
       "    </tr>\n",
       "    <tr>\n",
       "      <th>2</th>\n",
       "      <td>0.061523</td>\n",
       "      <td>0.081722</td>\n",
       "      <td>6.7421</td>\n",
       "      <td>8.5808</td>\n",
       "      <td>0</td>\n",
       "    </tr>\n",
       "    <tr>\n",
       "      <th>3</th>\n",
       "      <td>0.099396</td>\n",
       "      <td>-1.116900</td>\n",
       "      <td>8.8941</td>\n",
       "      <td>7.0145</td>\n",
       "      <td>0</td>\n",
       "    </tr>\n",
       "    <tr>\n",
       "      <th>4</th>\n",
       "      <td>0.129670</td>\n",
       "      <td>0.612920</td>\n",
       "      <td>7.5048</td>\n",
       "      <td>5.6661</td>\n",
       "      <td>0</td>\n",
       "    </tr>\n",
       "  </tbody>\n",
       "</table>\n",
       "</div>"
      ],
      "text/plain": [
       "      tstep        xa      ya      za  uid\n",
       "0  0.000000  0.190680  6.5922  6.5514    0\n",
       "1  0.029480  0.108960  5.8567  6.6604    0\n",
       "2  0.061523  0.081722  6.7421  8.5808    0\n",
       "3  0.099396 -1.116900  8.8941  7.0145    0\n",
       "4  0.129670  0.612920  7.5048  5.6661    0"
      ]
     },
     "execution_count": 52,
     "metadata": {},
     "output_type": "execute_result"
    }
   ],
   "source": [
    "## peak at data\n",
    "\n",
    "frame.head()"
   ]
  },
  {
   "cell_type": "code",
   "execution_count": null,
   "metadata": {
    "collapsed": true
   },
   "outputs": [],
   "source": []
  },
  {
   "cell_type": "markdown",
   "metadata": {},
   "source": [
    "## Exploratory Data Analysis (EDA)\n",
    "---\n"
   ]
  },
  {
   "cell_type": "code",
   "execution_count": null,
   "metadata": {
    "collapsed": true
   },
   "outputs": [],
   "source": [
    "## number of participants\n",
    "## number of data points collected for each participant\n",
    "\n",
    "# total time for each participant?\n",
    "# average time series interval for each participant? \n",
    "# "
   ]
  },
  {
   "cell_type": "code",
   "execution_count": 68,
   "metadata": {},
   "outputs": [],
   "source": [
    "def plot_xyz(data, uid):\n",
    "    \n",
    "    user_subset = frame[frame.uid == uid]\n",
    "    f, (ax1, ax2, ax3) = plt.subplots(3, sharex=True)\n",
    "    ax1.plot(user_subset['tstep'], user_subset['xa'])\n",
    "    ax1.set_title('X')\n",
    "    ax2.plot(user_subset['tstep'], user_subset['ya'])\n",
    "    ax2.set_title('Y')\n",
    "    ax3.plot(user_subset['tstep'], user_subset['za'])\n",
    "    ax3.set_title('Z')                                    "
   ]
  },
  {
   "cell_type": "code",
   "execution_count": 87,
   "metadata": {},
   "outputs": [
    {
     "data": {
      "image/png": "[encoded data removed]",
      "text/plain": [
       "<matplotlib.figure.Figure at 0x11f88d208>"
      ]
     },
     "metadata": {},
     "output_type": "display_data"
    }
   ],
   "source": [
    "plot_xyz(frame, 7)"
   ]
  },
  {
   "cell_type": "markdown",
   "metadata": {},
   "source": [
    "<br/>\n",
    "\n",
    "## Model Selection\n",
    "---"
   ]
  },
  {
   "cell_type": "code",
   "execution_count": null,
   "metadata": {
    "collapsed": true
   },
   "outputs": [],
   "source": []
  },
  {
   "cell_type": "code",
   "execution_count": null,
   "metadata": {
    "collapsed": true
   },
   "outputs": [],
   "source": []
  },
  {
   "cell_type": "code",
   "execution_count": null,
   "metadata": {
    "collapsed": true
   },
   "outputs": [],
   "source": []
  },
  {
   "cell_type": "markdown",
   "metadata": {},
   "source": [
    "<br/> \n",
    "\n",
    "## Model Assessment \n",
    "---"
   ]
  },
  {
   "cell_type": "code",
   "execution_count": null,
   "metadata": {
    "collapsed": true
   },
   "outputs": [],
   "source": []
  }
 ],
 "metadata": {
  "kernelspec": {
   "display_name": "Python 3",
   "language": "python",
   "name": "python3"
  },
  "language_info": {
   "codemirror_mode": {
    "name": "ipython",
    "version": 3
   },
   "file_extension": ".py",
   "mimetype": "text/x-python",
   "name": "python",
   "nbconvert_exporter": "python",
   "pygments_lexer": "ipython3",
   "version": "3.6.1"
  }
 },
 "nbformat": 4,
 "nbformat_minor": 2
}
